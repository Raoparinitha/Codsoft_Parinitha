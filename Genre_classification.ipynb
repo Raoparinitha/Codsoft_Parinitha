{
 "cells": [
  {
   "cell_type": "code",
   "execution_count": 6,
   "id": "b78d5725",
   "metadata": {},
   "outputs": [
    {
     "ename": "AttributeError",
     "evalue": "Can only use .str accessor with string values!",
     "output_type": "error",
     "traceback": [
      "\u001b[1;31m---------------------------------------------------------------------------\u001b[0m",
      "\u001b[1;31mAttributeError\u001b[0m                            Traceback (most recent call last)",
      "Input \u001b[1;32mIn [6]\u001b[0m, in \u001b[0;36m<cell line: 18>\u001b[1;34m()\u001b[0m\n\u001b[0;32m     16\u001b[0m train_data[\u001b[38;5;124m'\u001b[39m\u001b[38;5;124mplot\u001b[39m\u001b[38;5;124m'\u001b[39m] \u001b[38;5;241m=\u001b[39m train_data[\u001b[38;5;124m'\u001b[39m\u001b[38;5;124mplot\u001b[39m\u001b[38;5;124m'\u001b[39m]\u001b[38;5;241m.\u001b[39mstr\u001b[38;5;241m.\u001b[39mstrip()\n\u001b[0;32m     17\u001b[0m test_data[\u001b[38;5;124m'\u001b[39m\u001b[38;5;124mgenre\u001b[39m\u001b[38;5;124m'\u001b[39m] \u001b[38;5;241m=\u001b[39m test_data[\u001b[38;5;124m'\u001b[39m\u001b[38;5;124mgenre\u001b[39m\u001b[38;5;124m'\u001b[39m]\u001b[38;5;241m.\u001b[39mstr\u001b[38;5;241m.\u001b[39mstrip()\n\u001b[1;32m---> 18\u001b[0m test_data[\u001b[38;5;124m'\u001b[39m\u001b[38;5;124mplot\u001b[39m\u001b[38;5;124m'\u001b[39m] \u001b[38;5;241m=\u001b[39m \u001b[43mtest_data\u001b[49m\u001b[43m[\u001b[49m\u001b[38;5;124;43m'\u001b[39;49m\u001b[38;5;124;43mplot\u001b[39;49m\u001b[38;5;124;43m'\u001b[39;49m\u001b[43m]\u001b[49m\u001b[38;5;241;43m.\u001b[39;49m\u001b[43mstr\u001b[49m\u001b[38;5;241m.\u001b[39mstrip()\n\u001b[0;32m     20\u001b[0m \u001b[38;5;66;03m# Define features (X) and labels (y) for training and testing\u001b[39;00m\n\u001b[0;32m     21\u001b[0m X_train \u001b[38;5;241m=\u001b[39m train_data[\u001b[38;5;124m'\u001b[39m\u001b[38;5;124mplot\u001b[39m\u001b[38;5;124m'\u001b[39m]\n",
      "File \u001b[1;32m~\\anaconda3\\lib\\site-packages\\pandas\\core\\generic.py:5575\u001b[0m, in \u001b[0;36mNDFrame.__getattr__\u001b[1;34m(self, name)\u001b[0m\n\u001b[0;32m   5568\u001b[0m \u001b[38;5;28;01mif\u001b[39;00m (\n\u001b[0;32m   5569\u001b[0m     name \u001b[38;5;129;01mnot\u001b[39;00m \u001b[38;5;129;01min\u001b[39;00m \u001b[38;5;28mself\u001b[39m\u001b[38;5;241m.\u001b[39m_internal_names_set\n\u001b[0;32m   5570\u001b[0m     \u001b[38;5;129;01mand\u001b[39;00m name \u001b[38;5;129;01mnot\u001b[39;00m \u001b[38;5;129;01min\u001b[39;00m \u001b[38;5;28mself\u001b[39m\u001b[38;5;241m.\u001b[39m_metadata\n\u001b[0;32m   5571\u001b[0m     \u001b[38;5;129;01mand\u001b[39;00m name \u001b[38;5;129;01mnot\u001b[39;00m \u001b[38;5;129;01min\u001b[39;00m \u001b[38;5;28mself\u001b[39m\u001b[38;5;241m.\u001b[39m_accessors\n\u001b[0;32m   5572\u001b[0m     \u001b[38;5;129;01mand\u001b[39;00m \u001b[38;5;28mself\u001b[39m\u001b[38;5;241m.\u001b[39m_info_axis\u001b[38;5;241m.\u001b[39m_can_hold_identifiers_and_holds_name(name)\n\u001b[0;32m   5573\u001b[0m ):\n\u001b[0;32m   5574\u001b[0m     \u001b[38;5;28;01mreturn\u001b[39;00m \u001b[38;5;28mself\u001b[39m[name]\n\u001b[1;32m-> 5575\u001b[0m \u001b[38;5;28;01mreturn\u001b[39;00m \u001b[38;5;28;43mobject\u001b[39;49m\u001b[38;5;241;43m.\u001b[39;49m\u001b[38;5;21;43m__getattribute__\u001b[39;49m\u001b[43m(\u001b[49m\u001b[38;5;28;43mself\u001b[39;49m\u001b[43m,\u001b[49m\u001b[43m \u001b[49m\u001b[43mname\u001b[49m\u001b[43m)\u001b[49m\n",
      "File \u001b[1;32m~\\anaconda3\\lib\\site-packages\\pandas\\core\\accessor.py:182\u001b[0m, in \u001b[0;36mCachedAccessor.__get__\u001b[1;34m(self, obj, cls)\u001b[0m\n\u001b[0;32m    179\u001b[0m \u001b[38;5;28;01mif\u001b[39;00m obj \u001b[38;5;129;01mis\u001b[39;00m \u001b[38;5;28;01mNone\u001b[39;00m:\n\u001b[0;32m    180\u001b[0m     \u001b[38;5;66;03m# we're accessing the attribute of the class, i.e., Dataset.geo\u001b[39;00m\n\u001b[0;32m    181\u001b[0m     \u001b[38;5;28;01mreturn\u001b[39;00m \u001b[38;5;28mself\u001b[39m\u001b[38;5;241m.\u001b[39m_accessor\n\u001b[1;32m--> 182\u001b[0m accessor_obj \u001b[38;5;241m=\u001b[39m \u001b[38;5;28;43mself\u001b[39;49m\u001b[38;5;241;43m.\u001b[39;49m\u001b[43m_accessor\u001b[49m\u001b[43m(\u001b[49m\u001b[43mobj\u001b[49m\u001b[43m)\u001b[49m\n\u001b[0;32m    183\u001b[0m \u001b[38;5;66;03m# Replace the property with the accessor object. Inspired by:\u001b[39;00m\n\u001b[0;32m    184\u001b[0m \u001b[38;5;66;03m# https://www.pydanny.com/cached-property.html\u001b[39;00m\n\u001b[0;32m    185\u001b[0m \u001b[38;5;66;03m# We need to use object.__setattr__ because we overwrite __setattr__ on\u001b[39;00m\n\u001b[0;32m    186\u001b[0m \u001b[38;5;66;03m# NDFrame\u001b[39;00m\n\u001b[0;32m    187\u001b[0m \u001b[38;5;28mobject\u001b[39m\u001b[38;5;241m.\u001b[39m\u001b[38;5;21m__setattr__\u001b[39m(obj, \u001b[38;5;28mself\u001b[39m\u001b[38;5;241m.\u001b[39m_name, accessor_obj)\n",
      "File \u001b[1;32m~\\anaconda3\\lib\\site-packages\\pandas\\core\\strings\\accessor.py:177\u001b[0m, in \u001b[0;36mStringMethods.__init__\u001b[1;34m(self, data)\u001b[0m\n\u001b[0;32m    174\u001b[0m \u001b[38;5;28;01mdef\u001b[39;00m \u001b[38;5;21m__init__\u001b[39m(\u001b[38;5;28mself\u001b[39m, data):\n\u001b[0;32m    175\u001b[0m     \u001b[38;5;28;01mfrom\u001b[39;00m \u001b[38;5;21;01mpandas\u001b[39;00m\u001b[38;5;21;01m.\u001b[39;00m\u001b[38;5;21;01mcore\u001b[39;00m\u001b[38;5;21;01m.\u001b[39;00m\u001b[38;5;21;01marrays\u001b[39;00m\u001b[38;5;21;01m.\u001b[39;00m\u001b[38;5;21;01mstring_\u001b[39;00m \u001b[38;5;28;01mimport\u001b[39;00m StringDtype\n\u001b[1;32m--> 177\u001b[0m     \u001b[38;5;28mself\u001b[39m\u001b[38;5;241m.\u001b[39m_inferred_dtype \u001b[38;5;241m=\u001b[39m \u001b[38;5;28;43mself\u001b[39;49m\u001b[38;5;241;43m.\u001b[39;49m\u001b[43m_validate\u001b[49m\u001b[43m(\u001b[49m\u001b[43mdata\u001b[49m\u001b[43m)\u001b[49m\n\u001b[0;32m    178\u001b[0m     \u001b[38;5;28mself\u001b[39m\u001b[38;5;241m.\u001b[39m_is_categorical \u001b[38;5;241m=\u001b[39m is_categorical_dtype(data\u001b[38;5;241m.\u001b[39mdtype)\n\u001b[0;32m    179\u001b[0m     \u001b[38;5;28mself\u001b[39m\u001b[38;5;241m.\u001b[39m_is_string \u001b[38;5;241m=\u001b[39m \u001b[38;5;28misinstance\u001b[39m(data\u001b[38;5;241m.\u001b[39mdtype, StringDtype)\n",
      "File \u001b[1;32m~\\anaconda3\\lib\\site-packages\\pandas\\core\\strings\\accessor.py:231\u001b[0m, in \u001b[0;36mStringMethods._validate\u001b[1;34m(data)\u001b[0m\n\u001b[0;32m    228\u001b[0m inferred_dtype \u001b[38;5;241m=\u001b[39m lib\u001b[38;5;241m.\u001b[39minfer_dtype(values, skipna\u001b[38;5;241m=\u001b[39m\u001b[38;5;28;01mTrue\u001b[39;00m)\n\u001b[0;32m    230\u001b[0m \u001b[38;5;28;01mif\u001b[39;00m inferred_dtype \u001b[38;5;129;01mnot\u001b[39;00m \u001b[38;5;129;01min\u001b[39;00m allowed_types:\n\u001b[1;32m--> 231\u001b[0m     \u001b[38;5;28;01mraise\u001b[39;00m \u001b[38;5;167;01mAttributeError\u001b[39;00m(\u001b[38;5;124m\"\u001b[39m\u001b[38;5;124mCan only use .str accessor with string values!\u001b[39m\u001b[38;5;124m\"\u001b[39m)\n\u001b[0;32m    232\u001b[0m \u001b[38;5;28;01mreturn\u001b[39;00m inferred_dtype\n",
      "\u001b[1;31mAttributeError\u001b[0m: Can only use .str accessor with string values!"
     ]
    }
   ],
   "source": [
    "import pandas as pd\n",
    "from sklearn.feature_extraction.text import TfidfVectorizer\n",
    "from sklearn.linear_model import LogisticRegression\n",
    "from sklearn.multiclass import OneVsRestClassifier\n",
    "from sklearn.metrics import classification_report, accuracy_score\n",
    "\n",
    "# Load the training and testing datasets\n",
    "train_data_path = 'train_data.txt'  # Replace with the actual path\n",
    "test_data_path = 'test_data.txt'    # Replace with the actual path\n",
    "\n",
    "train_data = pd.read_csv(train_data_path, delimiter=':::', engine='python', header=None, names=['id', 'title', 'genre', 'plot'])\n",
    "test_data = pd.read_csv(test_data_path, delimiter=':::', engine='python', header=None, names=['id', 'title', 'genre', 'plot'])\n",
    "\n",
    "# Clean and preprocess genres and plots\n",
    "train_data['genre'] = train_data['genre'].str.strip()\n",
    "train_data['plot'] = train_data['plot'].str.strip()\n",
    "test_data['genre'] = test_data['genre'].str.strip()\n",
    "test_data['plot'] = test_data['plot'].str.strip()\n",
    "\n",
    "# Define features (X) and labels (y) for training and testing\n",
    "X_train = train_data['plot']\n",
    "y_train = train_data['genre']\n",
    "X_test = test_data['plot']\n",
    "y_test = test_data['genre']\n",
    "\n",
    "# Convert plot summaries into TF-IDF vectors\n",
    "tfidf = TfidfVectorizer(max_features=5000, stop_words='english')\n",
    "X_train_tfidf = tfidf.fit_transform(X_train)\n",
    "X_test_tfidf = tfidf.transform(X_test)\n",
    "\n",
    "# Train a Logistic Regression model with OneVsRestClassifier for multi-label classification\n",
    "model = OneVsRestClassifier(LogisticRegression(max_iter=1000))\n",
    "model.fit(X_train_tfidf, y_train)\n",
    "\n",
    "# Predict on the test set\n",
    "y_pred = model.predict(X_test_tfidf)\n",
    "\n",
    "# Evaluate the model\n",
    "print(\"Accuracy:\", accuracy_score(y_test, y_pred))\n",
    "print(\"Classification Report:\\n\", classification_report(y_test, y_pred))\n"
   ]
  },
  {
   "cell_type": "code",
   "execution_count": 3,
   "id": "cbeeabc5",
   "metadata": {},
   "outputs": [
    {
     "name": "stdout",
     "output_type": "stream",
     "text": [
      "float64\n"
     ]
    }
   ],
   "source": [
    "print(test_data['plot'].dtype)\n"
   ]
  },
  {
   "cell_type": "code",
   "execution_count": 4,
   "id": "570252e6",
   "metadata": {},
   "outputs": [],
   "source": [
    "test_data['plot'] = test_data['plot'].astype(str)\n",
    "test_data['plot'] = test_data['plot'].str.strip()\n"
   ]
  },
  {
   "cell_type": "code",
   "execution_count": 5,
   "id": "42fa23eb",
   "metadata": {},
   "outputs": [],
   "source": [
    "test_data['plot'] = test_data['plot'].fillna('').str.strip()\n"
   ]
  },
  {
   "cell_type": "code",
   "execution_count": 7,
   "id": "078ec33f",
   "metadata": {},
   "outputs": [
    {
     "name": "stderr",
     "output_type": "stream",
     "text": [
      "Loading Train Data: 100%|██████████████████████████████████████████████████████████████| 50/50 [00:02<00:00, 20.03it/s]\n",
      "Vectorizing Training Data: 100%|███████████████████████████████████████████████████████| 50/50 [00:07<00:00,  6.41it/s]\n",
      "Training Model: 100%|██████████████████████████████████████████████████████████████████| 50/50 [00:00<00:00, 53.51it/s]\n",
      "Loading Test Data: 100%|███████████████████████████████████████████████████████████████| 50/50 [00:01<00:00, 42.74it/s]\n",
      "Vectorizing Test Data: 100%|███████████████████████████████████████████████████████████| 50/50 [00:07<00:00,  6.74it/s]\n",
      "Predicting on Test Data: 100%|█████████████████████████████████████████████████████████| 50/50 [00:00<00:00, 71.00it/s]\n"
     ]
    }
   ],
   "source": [
    "import pandas as pd\n",
    "import numpy as np\n",
    "from sklearn.feature_extraction.text import TfidfVectorizer\n",
    "from sklearn.multioutput import MultiOutputClassifier\n",
    "from sklearn.naive_bayes import MultinomialNB\n",
    "from sklearn.preprocessing import MultiLabelBinarizer\n",
    "from sklearn.metrics import accuracy_score, precision_score, recall_score, f1_score\n",
    "from tqdm import tqdm\n",
    "\n",
    "# List of Genres learnt from the Training Data\n",
    "genre_list = [ 'action', 'adult', 'adventure', 'animation', 'biography', 'comedy', 'crime', 'documentary', 'family', 'fantasy', 'game-show', 'history', 'horror', 'music', 'musical', 'mystery', 'news', 'reality-tv', 'romance', 'sci-fi', 'short', 'sport', 'talk-show', 'thriller', 'war', 'western' ]\n",
    "\n",
    "# Define a fallback genre for movies which the model finds very hard to predict\n",
    "fallback_genre = 'Unknown'\n",
    "\n",
    "# Load the Training dataset from train_data.txt\n",
    "try:\n",
    "    with tqdm(total=50, desc=\"Loading Train Data\") as pbar:\n",
    "        train_data = pd.read_csv('train_data.txt', sep=':::', header=None, names=['SerialNumber', 'MOVIE_NAME', 'GENRE', 'MOVIE_PLOT'], engine='python')\n",
    "        pbar.update(50)\n",
    "except Exception as e:\n",
    "    print(f\"Error loading train_data: {e}\")\n",
    "    raise\n",
    "\n",
    "# Data preprocessing for training data\n",
    "X_train = train_data['MOVIE_PLOT'].astype(str).apply(lambda doc: doc.lower())\n",
    "genre_labels = [genre.split(', ') for genre in train_data['GENRE']]\n",
    "mlb = MultiLabelBinarizer()\n",
    "y_train = mlb.fit_transform(genre_labels)\n",
    "\n",
    "# TF-IDF Vectorization\n",
    "tfidf_vectorizer = TfidfVectorizer(max_features=5000)  # You can adjust max_features\n",
    "\n",
    "# Fit and transform the training data with progress bar\n",
    "with tqdm(total=50, desc=\"Vectorizing Training Data\") as pbar:\n",
    "    X_train_tfidf = tfidf_vectorizer.fit_transform(X_train)\n",
    "    pbar.update(50)\n",
    "\n",
    "# Train a MultiOutput Naive Bayes classifier using the training data\n",
    "with tqdm(total=50, desc=\"Training Model\") as pbar:\n",
    "    naive_bayes = MultinomialNB()\n",
    "    multi_output_classifier = MultiOutputClassifier(naive_bayes)\n",
    "    multi_output_classifier.fit(X_train_tfidf, y_train)\n",
    "    pbar.update(50)\n",
    "\n",
    "# Load your test dataset from test_data.txt\n",
    "try:\n",
    "    with tqdm(total=50, desc=\"Loading Test Data\") as pbar:\n",
    "        test_data = pd.read_csv('test_data.txt', sep=':::', header=None, names=['SerialNumber', 'MOVIE_NAME', 'MOVIE_PLOT'], engine='python')\n",
    "        pbar.update(50)\n",
    "except Exception as e:\n",
    "    print(f\"Error loading test_data: {e}\")\n",
    "    raise\n",
    "\n",
    "# Data preprocessing for test data\n",
    "X_test = test_data['MOVIE_PLOT'].astype(str).apply(lambda doc: doc.lower())\n",
    "\n",
    "# Transform the test data with progress bar\n",
    "with tqdm(total=50, desc=\"Vectorizing Test Data\") as pbar:\n",
    "    X_test_tfidf = tfidf_vectorizer.transform(X_test)\n",
    "    pbar.update(50)\n",
    "\n",
    "# Predict genres on the test data\n",
    "with tqdm(total=50, desc=\"Predicting on Test Data\") as pbar:\n",
    "    y_pred = multi_output_classifier.predict(X_test_tfidf)\n",
    "    pbar.update(50)\n",
    "\n",
    "# Create a DataFrame for test data with movie names and predicted genres\n",
    "test_movie_names = test_data['MOVIE_NAME']\n",
    "predicted_genres = mlb.inverse_transform(y_pred)\n",
    "test_results = pd.DataFrame({'MOVIE_NAME': test_movie_names, 'PREDICTED_GENRES': predicted_genres})\n",
    "\n",
    "# Replace empty unpredicted genres with the fallback genre\n",
    "test_results['PREDICTED_GENRES'] = test_results['PREDICTED_GENRES'].apply(lambda genres: [fallback_genre] if len(genres) == 0 else genres)\n",
    "\n",
    "# Write the results to an output text file with proper formatting\n",
    "with open(\"model_evaluation.txt\", \"w\", encoding=\"utf-8\") as output_file:\n",
    "    for _, row in test_results.iterrows():\n",
    "        movie_name = row['MOVIE_NAME']\n",
    "        genre_str = ', '.join(row['PREDICTED_GENRES'])\n",
    "        output_file.write(f\"{movie_name} ::: {genre_str}\\n\")\n",
    "\n",
    "\n",
    "# Calculate evaluation metrics using training labels (as a proxy)\n",
    "y_train_pred = multi_output_classifier.predict(X_train_tfidf)\n",
    "\n",
    "# Calculate evaluation metrics\n",
    "accuracy = accuracy_score(y_train, y_train_pred)\n",
    "precision = precision_score(y_train, y_train_pred, average='micro')\n",
    "recall = recall_score(y_train, y_train_pred, average='micro')\n",
    "f1 = f1_score(y_train, y_train_pred, average='micro')\n",
    "\n",
    "# Append the evaluation metrics to the output file\n",
    "with open(\"model_evaluation.txt\", \"a\", encoding=\"utf-8\") as output_file:\n",
    "    output_file.write(\"\\n\\nModel Evaluation Metrics:\\n\")\n",
    "    output_file.write(f\"Accuracy: {accuracy * 100:.2f}%\\n\")\n",
    "    output_file.write(f\"Precision: {precision:.2f}\\n\")\n",
    "    output_file.write(f\"Recall: {recall:.2f}\\n\")\n",
    "    output_file.write(f\"F1-score: {f1:.2f}\\n\")"
   ]
  },
  {
   "cell_type": "code",
   "execution_count": null,
   "id": "a3bc3274",
   "metadata": {},
   "outputs": [],
   "source": []
  }
 ],
 "metadata": {
  "kernelspec": {
   "display_name": "Python 3 (ipykernel)",
   "language": "python",
   "name": "python3"
  },
  "language_info": {
   "codemirror_mode": {
    "name": "ipython",
    "version": 3
   },
   "file_extension": ".py",
   "mimetype": "text/x-python",
   "name": "python",
   "nbconvert_exporter": "python",
   "pygments_lexer": "ipython3",
   "version": "3.9.12"
  }
 },
 "nbformat": 4,
 "nbformat_minor": 5
}
